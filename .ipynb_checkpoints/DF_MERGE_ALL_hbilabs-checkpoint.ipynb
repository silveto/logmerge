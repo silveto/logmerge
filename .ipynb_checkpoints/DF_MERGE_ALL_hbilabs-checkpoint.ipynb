{
 "cells": [
  {
   "cell_type": "code",
   "execution_count": 1,
   "metadata": {
    "collapsed": true
   },
   "outputs": [],
   "source": [
    "import pandas as pd\n",
    "import numpy as np\n",
    "import re # Regular expression library\n",
    "\n",
    "# StringIO - to read dataframe from string\n",
    "import sys\n",
    "if sys.version_info[0] < 3: \n",
    "    from StringIO import StringIO\n",
    "else:\n",
    "    from io import StringIO"
   ]
  },
  {
   "cell_type": "code",
   "execution_count": 2,
   "metadata": {
    "collapsed": false
   },
   "outputs": [
    {
     "name": "stdout",
     "output_type": "stream",
     "text": [
      "C:\\Users\\silveto\\Documents\\PROJECTS\\FL\\Jupyter\\data\n"
     ]
    }
   ],
   "source": [
    "cd data"
   ]
  },
  {
   "cell_type": "code",
   "execution_count": 3,
   "metadata": {
    "collapsed": false
   },
   "outputs": [
    {
     "name": "stdout",
     "output_type": "stream",
     "text": [
      "(630, 10) (16, 9) (315, 6) (270010, 31)\n"
     ]
    }
   ],
   "source": [
    "# Read all tables\n",
    "df = pd.read_csv(\"df.csv\")\n",
    "df_a = pd.read_csv(\"df-a.csv\")\n",
    "df_aggr_status = pd.read_csv(\"df-agg-status.csv\")\n",
    "df_summary = pd.read_csv(\"Summary.csv\")\n",
    "\n",
    "print(df.shape, df_a.shape, df_aggr_status.shape, df_summary.shape)"
   ]
  },
  {
   "cell_type": "code",
   "execution_count": 4,
   "metadata": {
    "collapsed": true
   },
   "outputs": [],
   "source": [
    "# Convert date strings to datetime\n",
    "df['date'] = pd.to_datetime(df['date'], format='%Y-%m-%d %H:%M:%S')\n",
    "df_a['date'] = pd.to_datetime(df_a['date'], format='%Y-%m-%d %H:%M:%S')\n",
    "df_aggr_status['date'] = pd.to_datetime(df_aggr_status['date'], format='%Y-%m-%d %H:%M:%S')\n",
    "df_summary['Timestamp'] = pd.to_datetime(df_summary['Timestamp'], format='%d/%m/%Y %H:%M:%S')"
   ]
  },
  {
   "cell_type": "code",
   "execution_count": 5,
   "metadata": {
    "collapsed": true
   },
   "outputs": [],
   "source": [
    "# Remove .snapshot values (?)\n",
    "df = df[~df['Filesystem'].str.contains('.snapshot')]\n",
    "df_a = df_a[~df_a['Aggregate'].str.contains('.snapshot')]"
   ]
  },
  {
   "cell_type": "code",
   "execution_count": 6,
   "metadata": {
    "collapsed": false
   },
   "outputs": [],
   "source": [
    "# Get name of the volume from Filesystem\n",
    "df['vol'] = df['Filesystem']\n",
    "df['vol'] = df['vol'].str.replace('/vol/','').replace('/','')\n",
    "df['vol'] = df['vol'].str.replace('/','')"
   ]
  },
  {
   "cell_type": "code",
   "execution_count": 7,
   "metadata": {
    "collapsed": false
   },
   "outputs": [
    {
     "data": {
      "text/plain": [
       "(315, 17)"
      ]
     },
     "execution_count": 7,
     "metadata": {},
     "output_type": "execute_result"
    }
   ],
   "source": [
    "# Merge tables\n",
    "df_merged = pd.merge(left=df,\n",
    "               right=df_aggr_status[['date','agg','vol']],\n",
    "               how='left',\n",
    "               left_on=['date','vol'],\n",
    "               right_on=['date','vol'])\n",
    "df_merged = pd.merge(left=df_merged,\n",
    "               right=df_a[['date','Aggregate','kbytes','used', 'avail', 'capacity']],\n",
    "               how='left',\n",
    "               left_on=['date','agg'],\n",
    "               right_on=['date','Aggregate'],\n",
    "               suffixes=('_vol', '_agg'))\n",
    "df_merged.shape"
   ]
  },
  {
   "cell_type": "code",
   "execution_count": 8,
   "metadata": {
    "collapsed": false
   },
   "outputs": [
    {
     "data": {
      "text/html": [
       "<div>\n",
       "<table border=\"1\" class=\"dataframe\">\n",
       "  <thead>\n",
       "    <tr style=\"text-align: right;\">\n",
       "      <th></th>\n",
       "      <th>date</th>\n",
       "      <th>ASUP_Type</th>\n",
       "      <th>hostname</th>\n",
       "      <th>serial_no</th>\n",
       "      <th>Filesystem</th>\n",
       "      <th>kbytes_vol</th>\n",
       "      <th>used_vol</th>\n",
       "      <th>avail_vol</th>\n",
       "      <th>capacity_vol</th>\n",
       "      <th>Mounted on</th>\n",
       "      <th>vol</th>\n",
       "      <th>agg</th>\n",
       "      <th>Aggregate</th>\n",
       "      <th>kbytes_agg</th>\n",
       "      <th>used_agg</th>\n",
       "      <th>avail_agg</th>\n",
       "      <th>capacity_agg</th>\n",
       "    </tr>\n",
       "  </thead>\n",
       "  <tbody>\n",
       "    <tr>\n",
       "      <th>0</th>\n",
       "      <td>2017-07-02 00:34:30</td>\n",
       "      <td>WEEKLY_LOG</td>\n",
       "      <td>NASKNX07A</td>\n",
       "      <td>451416000026</td>\n",
       "      <td>/vol/vol0/</td>\n",
       "      <td>274596860</td>\n",
       "      <td>9436936</td>\n",
       "      <td>265159924</td>\n",
       "      <td>3%</td>\n",
       "      <td>/vol/vol0/</td>\n",
       "      <td>vol0</td>\n",
       "      <td>aggr0</td>\n",
       "      <td>aggr0</td>\n",
       "      <td>326979552</td>\n",
       "      <td>290796292</td>\n",
       "      <td>36183260</td>\n",
       "      <td>89%</td>\n",
       "    </tr>\n",
       "    <tr>\n",
       "      <th>1</th>\n",
       "      <td>2017-07-02 00:34:30</td>\n",
       "      <td>WEEKLY_LOG</td>\n",
       "      <td>NASKNX07A</td>\n",
       "      <td>451416000026</td>\n",
       "      <td>/vol/vf_NAS_AURDIVIC_rootvol/</td>\n",
       "      <td>1992296</td>\n",
       "      <td>13404</td>\n",
       "      <td>1978892</td>\n",
       "      <td>1%</td>\n",
       "      <td>/vol/vf_NAS_AURDIVIC_rootvol/</td>\n",
       "      <td>vf_NAS_AURDIVIC_rootvol</td>\n",
       "      <td>aggr01_nsas</td>\n",
       "      <td>aggr01_nsas</td>\n",
       "      <td>115782104680</td>\n",
       "      <td>98382566932</td>\n",
       "      <td>17399537748</td>\n",
       "      <td>85%</td>\n",
       "    </tr>\n",
       "    <tr>\n",
       "      <th>2</th>\n",
       "      <td>2017-07-02 00:34:30</td>\n",
       "      <td>WEEKLY_LOG</td>\n",
       "      <td>NASKNX07A</td>\n",
       "      <td>451416000026</td>\n",
       "      <td>/vol/wd_aurdivic_hobo_vol01/</td>\n",
       "      <td>2040109468</td>\n",
       "      <td>2405664</td>\n",
       "      <td>2037703804</td>\n",
       "      <td>0%</td>\n",
       "      <td>/vol/wd_aurdivic_hobo_vol01/</td>\n",
       "      <td>wd_aurdivic_hobo_vol01</td>\n",
       "      <td>aggr01_nsas</td>\n",
       "      <td>aggr01_nsas</td>\n",
       "      <td>115782104680</td>\n",
       "      <td>98382566932</td>\n",
       "      <td>17399537748</td>\n",
       "      <td>85%</td>\n",
       "    </tr>\n",
       "    <tr>\n",
       "      <th>3</th>\n",
       "      <td>2017-07-02 00:34:30</td>\n",
       "      <td>WEEKLY_LOG</td>\n",
       "      <td>NASKNX07A</td>\n",
       "      <td>451416000026</td>\n",
       "      <td>/vol/wd_aurdivic_branch_vol01/</td>\n",
       "      <td>2040109468</td>\n",
       "      <td>110912</td>\n",
       "      <td>2039998556</td>\n",
       "      <td>0%</td>\n",
       "      <td>/vol/wd_aurdivic_branch_vol01/</td>\n",
       "      <td>wd_aurdivic_branch_vol01</td>\n",
       "      <td>aggr01_nsas</td>\n",
       "      <td>aggr01_nsas</td>\n",
       "      <td>115782104680</td>\n",
       "      <td>98382566932</td>\n",
       "      <td>17399537748</td>\n",
       "      <td>85%</td>\n",
       "    </tr>\n",
       "    <tr>\n",
       "      <th>4</th>\n",
       "      <td>2017-07-02 00:34:30</td>\n",
       "      <td>WEEKLY_LOG</td>\n",
       "      <td>NASKNX07A</td>\n",
       "      <td>451416000026</td>\n",
       "      <td>/vol/vf_NAS_AURDI02_rootvol/</td>\n",
       "      <td>1992296</td>\n",
       "      <td>15640</td>\n",
       "      <td>1976656</td>\n",
       "      <td>1%</td>\n",
       "      <td>/vol/vf_NAS_AURDI02_rootvol/</td>\n",
       "      <td>vf_NAS_AURDI02_rootvol</td>\n",
       "      <td>aggr01_nsas</td>\n",
       "      <td>aggr01_nsas</td>\n",
       "      <td>115782104680</td>\n",
       "      <td>98382566932</td>\n",
       "      <td>17399537748</td>\n",
       "      <td>85%</td>\n",
       "    </tr>\n",
       "  </tbody>\n",
       "</table>\n",
       "</div>"
      ],
      "text/plain": [
       "                 date   ASUP_Type   hostname     serial_no  \\\n",
       "0 2017-07-02 00:34:30  WEEKLY_LOG  NASKNX07A  451416000026   \n",
       "1 2017-07-02 00:34:30  WEEKLY_LOG  NASKNX07A  451416000026   \n",
       "2 2017-07-02 00:34:30  WEEKLY_LOG  NASKNX07A  451416000026   \n",
       "3 2017-07-02 00:34:30  WEEKLY_LOG  NASKNX07A  451416000026   \n",
       "4 2017-07-02 00:34:30  WEEKLY_LOG  NASKNX07A  451416000026   \n",
       "\n",
       "                       Filesystem  kbytes_vol  used_vol   avail_vol  \\\n",
       "0                      /vol/vol0/   274596860   9436936   265159924   \n",
       "1   /vol/vf_NAS_AURDIVIC_rootvol/     1992296     13404     1978892   \n",
       "2    /vol/wd_aurdivic_hobo_vol01/  2040109468   2405664  2037703804   \n",
       "3  /vol/wd_aurdivic_branch_vol01/  2040109468    110912  2039998556   \n",
       "4    /vol/vf_NAS_AURDI02_rootvol/     1992296     15640     1976656   \n",
       "\n",
       "  capacity_vol                      Mounted on                       vol  \\\n",
       "0           3%                      /vol/vol0/                      vol0   \n",
       "1           1%   /vol/vf_NAS_AURDIVIC_rootvol/   vf_NAS_AURDIVIC_rootvol   \n",
       "2           0%    /vol/wd_aurdivic_hobo_vol01/    wd_aurdivic_hobo_vol01   \n",
       "3           0%  /vol/wd_aurdivic_branch_vol01/  wd_aurdivic_branch_vol01   \n",
       "4           1%    /vol/vf_NAS_AURDI02_rootvol/    vf_NAS_AURDI02_rootvol   \n",
       "\n",
       "           agg    Aggregate    kbytes_agg     used_agg    avail_agg  \\\n",
       "0        aggr0        aggr0     326979552    290796292     36183260   \n",
       "1  aggr01_nsas  aggr01_nsas  115782104680  98382566932  17399537748   \n",
       "2  aggr01_nsas  aggr01_nsas  115782104680  98382566932  17399537748   \n",
       "3  aggr01_nsas  aggr01_nsas  115782104680  98382566932  17399537748   \n",
       "4  aggr01_nsas  aggr01_nsas  115782104680  98382566932  17399537748   \n",
       "\n",
       "  capacity_agg  \n",
       "0          89%  \n",
       "1          85%  \n",
       "2          85%  \n",
       "3          85%  \n",
       "4          85%  "
      ]
     },
     "execution_count": 8,
     "metadata": {},
     "output_type": "execute_result"
    }
   ],
   "source": [
    "df_merged.head()"
   ]
  },
  {
   "cell_type": "code",
   "execution_count": null,
   "metadata": {
    "collapsed": true
   },
   "outputs": [],
   "source": []
  }
 ],
 "metadata": {
  "anaconda-cloud": {},
  "kernelspec": {
   "display_name": "Python [Root]",
   "language": "python",
   "name": "Python [Root]"
  },
  "language_info": {
   "codemirror_mode": {
    "name": "ipython",
    "version": 3
   },
   "file_extension": ".py",
   "mimetype": "text/x-python",
   "name": "python",
   "nbconvert_exporter": "python",
   "pygments_lexer": "ipython3",
   "version": "3.5.2"
  }
 },
 "nbformat": 4,
 "nbformat_minor": 2
}
