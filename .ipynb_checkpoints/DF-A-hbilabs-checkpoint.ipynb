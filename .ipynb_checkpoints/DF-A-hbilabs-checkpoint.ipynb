{
 "cells": [
  {
   "cell_type": "code",
   "execution_count": 1,
   "metadata": {
    "collapsed": true
   },
   "outputs": [],
   "source": [
    "import pandas as pd\n",
    "import numpy as np\n",
    "import re # Regular expression library\n",
    "\n",
    "# StringIO - to read dataframe from string\n",
    "import sys\n",
    "if sys.version_info[0] < 3: \n",
    "    from StringIO import StringIO\n",
    "else:\n",
    "    from io import StringIO"
   ]
  },
  {
   "cell_type": "code",
   "execution_count": 2,
   "metadata": {
    "collapsed": true
   },
   "outputs": [],
   "source": [
    "file_name = \"./data/DF-A_NASKNX07A.txt\"\n",
    "with open(file_name, 'r') as open_file:\n",
    "    txt = open_file.read()\n",
    "    separate_logs = txt.split('\\n\\n')"
   ]
  },
  {
   "cell_type": "code",
   "execution_count": 4,
   "metadata": {},
   "outputs": [
    {
     "name": "stdout",
     "output_type": "stream",
     "text": [
      "('Sun Jul  2 00:34:30 2017', 'WEEKLY_LOG', 'NASKNX07A', '451416000026')\n",
      "('Sun Jun 25 00:33:39 2017', 'WEEKLY_LOG', 'NASKNX07A', '451416000026')\n",
      "('Sun Jun 18 00:22:49 2017', 'WEEKLY_LOG', 'NASKNX07A', '451416000026')\n",
      "('Sun Jun 11 00:22:06 2017', 'WEEKLY_LOG', 'NASKNX07A', '451416000026')\n"
     ]
    }
   ],
   "source": [
    "log_dfs = []\n",
    "for log in separate_logs:\n",
    "    if not \"ERROR\" in log and log != '':\n",
    "        log = log.strip()\n",
    "        log_info = re.match( r'# (.* \\d{4}).*\\((.*)\\) INFO\\n# hostname: (.*) serialno: (\\d+)\\n', log, re.M).groups()\n",
    "        print(log_info)\n",
    "        log_data = pd.read_table(StringIO(log), skiprows=3, header=None, sep=r\"\\s+\",\n",
    "                     names=['Aggregate','kbytes','used','avail','capacity'])\n",
    "        log_data['date'] = log_info[0]\n",
    "        log_data['date'] = pd.to_datetime(log_data['date'], format='%a %b %d %H:%M:%S %Y')\n",
    "        log_data['ASUP_Type'] = log_info[1]\n",
    "        log_data['hostname'] = log_info[2]\n",
    "        log_data['serial_no'] = log_info[3]\n",
    "        log_data = log_data[['date', 'ASUP_Type','hostname','serial_no','Aggregate','kbytes','used','avail','capacity']]\n",
    "        log_dfs.append(log_data)"
   ]
  },
  {
   "cell_type": "code",
   "execution_count": 5,
   "metadata": {
    "collapsed": true
   },
   "outputs": [],
   "source": [
    "df = pd.concat(log_dfs, axis=0).reset_index(drop=True)"
   ]
  },
  {
   "cell_type": "code",
   "execution_count": 6,
   "metadata": {},
   "outputs": [
    {
     "data": {
      "text/plain": [
       "(16, 9)"
      ]
     },
     "execution_count": 6,
     "metadata": {},
     "output_type": "execute_result"
    }
   ],
   "source": [
    "df.shape"
   ]
  },
  {
   "cell_type": "code",
   "execution_count": 7,
   "metadata": {},
   "outputs": [
    {
     "data": {
      "text/html": [
       "<div>\n",
       "<style>\n",
       "    .dataframe thead tr:only-child th {\n",
       "        text-align: right;\n",
       "    }\n",
       "\n",
       "    .dataframe thead th {\n",
       "        text-align: left;\n",
       "    }\n",
       "\n",
       "    .dataframe tbody tr th {\n",
       "        vertical-align: top;\n",
       "    }\n",
       "</style>\n",
       "<table border=\"1\" class=\"dataframe\">\n",
       "  <thead>\n",
       "    <tr style=\"text-align: right;\">\n",
       "      <th></th>\n",
       "      <th>date</th>\n",
       "      <th>ASUP_Type</th>\n",
       "      <th>hostname</th>\n",
       "      <th>serial_no</th>\n",
       "      <th>Aggregate</th>\n",
       "      <th>kbytes</th>\n",
       "      <th>used</th>\n",
       "      <th>avail</th>\n",
       "      <th>capacity</th>\n",
       "    </tr>\n",
       "  </thead>\n",
       "  <tbody>\n",
       "    <tr>\n",
       "      <th>0</th>\n",
       "      <td>2017-07-02 00:34:30</td>\n",
       "      <td>WEEKLY_LOG</td>\n",
       "      <td>NASKNX07A</td>\n",
       "      <td>451416000026</td>\n",
       "      <td>aggr01_nsas</td>\n",
       "      <td>115782104680</td>\n",
       "      <td>98382566932</td>\n",
       "      <td>17399537748</td>\n",
       "      <td>85%</td>\n",
       "    </tr>\n",
       "    <tr>\n",
       "      <th>1</th>\n",
       "      <td>2017-07-02 00:34:30</td>\n",
       "      <td>WEEKLY_LOG</td>\n",
       "      <td>NASKNX07A</td>\n",
       "      <td>451416000026</td>\n",
       "      <td>aggr01_nsas/.snapshot</td>\n",
       "      <td>0</td>\n",
       "      <td>0</td>\n",
       "      <td>0</td>\n",
       "      <td>---%</td>\n",
       "    </tr>\n",
       "    <tr>\n",
       "      <th>2</th>\n",
       "      <td>2017-07-02 00:34:30</td>\n",
       "      <td>WEEKLY_LOG</td>\n",
       "      <td>NASKNX07A</td>\n",
       "      <td>451416000026</td>\n",
       "      <td>aggr0</td>\n",
       "      <td>326979552</td>\n",
       "      <td>290796292</td>\n",
       "      <td>36183260</td>\n",
       "      <td>89%</td>\n",
       "    </tr>\n",
       "    <tr>\n",
       "      <th>3</th>\n",
       "      <td>2017-07-02 00:34:30</td>\n",
       "      <td>WEEKLY_LOG</td>\n",
       "      <td>NASKNX07A</td>\n",
       "      <td>451416000026</td>\n",
       "      <td>aggr0/.snapshot</td>\n",
       "      <td>0</td>\n",
       "      <td>0</td>\n",
       "      <td>0</td>\n",
       "      <td>---%</td>\n",
       "    </tr>\n",
       "    <tr>\n",
       "      <th>4</th>\n",
       "      <td>2017-06-25 00:33:39</td>\n",
       "      <td>WEEKLY_LOG</td>\n",
       "      <td>NASKNX07A</td>\n",
       "      <td>451416000026</td>\n",
       "      <td>aggr01_nsas</td>\n",
       "      <td>115782104680</td>\n",
       "      <td>98169669256</td>\n",
       "      <td>17612435424</td>\n",
       "      <td>85%</td>\n",
       "    </tr>\n",
       "  </tbody>\n",
       "</table>\n",
       "</div>"
      ],
      "text/plain": [
       "                 date   ASUP_Type   hostname     serial_no  \\\n",
       "0 2017-07-02 00:34:30  WEEKLY_LOG  NASKNX07A  451416000026   \n",
       "1 2017-07-02 00:34:30  WEEKLY_LOG  NASKNX07A  451416000026   \n",
       "2 2017-07-02 00:34:30  WEEKLY_LOG  NASKNX07A  451416000026   \n",
       "3 2017-07-02 00:34:30  WEEKLY_LOG  NASKNX07A  451416000026   \n",
       "4 2017-06-25 00:33:39  WEEKLY_LOG  NASKNX07A  451416000026   \n",
       "\n",
       "               Aggregate        kbytes         used        avail capacity  \n",
       "0            aggr01_nsas  115782104680  98382566932  17399537748      85%  \n",
       "1  aggr01_nsas/.snapshot             0            0            0     ---%  \n",
       "2                  aggr0     326979552    290796292     36183260      89%  \n",
       "3        aggr0/.snapshot             0            0            0     ---%  \n",
       "4            aggr01_nsas  115782104680  98169669256  17612435424      85%  "
      ]
     },
     "execution_count": 7,
     "metadata": {},
     "output_type": "execute_result"
    }
   ],
   "source": [
    "df.head()"
   ]
  },
  {
   "cell_type": "code",
   "execution_count": null,
   "metadata": {
    "collapsed": true
   },
   "outputs": [],
   "source": []
  },
  {
   "cell_type": "code",
   "execution_count": null,
   "metadata": {
    "collapsed": true
   },
   "outputs": [],
   "source": []
  }
 ],
 "metadata": {
  "kernelspec": {
   "display_name": "Python 2",
   "language": "python",
   "name": "python2"
  },
  "language_info": {
   "codemirror_mode": {
    "name": "ipython",
    "version": 2
   },
   "file_extension": ".py",
   "mimetype": "text/x-python",
   "name": "python",
   "nbconvert_exporter": "python",
   "pygments_lexer": "ipython2",
   "version": "2.7.13"
  }
 },
 "nbformat": 4,
 "nbformat_minor": 2
}
