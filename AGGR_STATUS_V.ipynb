{
 "cells": [
  {
   "cell_type": "code",
   "execution_count": 4,
   "metadata": {
    "collapsed": true
   },
   "outputs": [],
   "source": [
    "import pandas as pd\n",
    "import numpy as np\n",
    "import re # Regular expression library\n",
    "\n",
    "# StringIO - to read dataframe from string\n",
    "import sys\n",
    "if sys.version_info[0] < 3: \n",
    "    from StringIO import StringIO\n",
    "else:\n",
    "    from io import StringIO"
   ]
  },
  {
   "cell_type": "code",
   "execution_count": 5,
   "metadata": {
    "collapsed": true
   },
   "outputs": [],
   "source": [
    "file_name = \"./data/AGGR-STATUS-V_NASKNX07A.txt\"\n",
    "with open(file_name, 'r') as open_file:\n",
    "    txt = open_file.read()\n",
    "    separate_logs = txt.split('\\n\\n')"
   ]
  },
  {
   "cell_type": "code",
   "execution_count": 7,
   "metadata": {
    "collapsed": false
   },
   "outputs": [
    {
     "data": {
      "text/plain": [
       "'# Sun Jul  2 00:34:30 2017 HA Group Notification (WEEKLY_LOG) INFO\\n# hostname: NASKNX07A serialno: 451416000026\\n           Aggr State           Status            Options\\r\\n          aggr0 online          raid0, aggr       root, diskroot, nosnap=off, raidtype=raid0, \\r\\n                                64-bit            raidsize=8, raid_lost_write=off, \\r\\n                                rlw_off           ignore_inconsistent=off, snapmirrored=off, \\r\\n                                                  resyncsnaptime=60, fs_size_fixed=off, \\r\\n                                                  snapshot_autodelete=on, lost_write_protect=on, \\r\\n                                                  no_delete_log=off, ha_policy=cfo, \\r\\n                                                  hybrid_enabled=off, percent_snapshot_space=0%, \\r\\n                                                  free_space_realloc=off, raid_cv=on, \\r\\n                                                  thorough_scrub=off\\r\\n\\r\\n\\t\\tVolumes: vol0\\r\\n\\r\\n                Plex /aggr0/plex0: online, normal, active\\r\\n                    RAID group /aggr0/plex0/rg0: normal, block checksums\\r\\n\\r\\n    aggr01_nsas online          raid0, aggr       nosnap=off, raidtype=raid0, raidsize=8, \\r\\n                                64-bit            raid_lost_write=off, ignore_inconsistent=off, \\r\\n                                rlw_off           snapmirrored=off, resyncsnaptime=60, \\r\\n                                                  fs_size_fixed=off, snapshot_autodelete=on, \\r\\n                                                  lost_write_protect=on, no_delete_log=off, \\r\\n                                                  ha_policy=cfo, hybrid_enabled=off, \\r\\n                                                  percent_snapshot_space=0%, \\r\\n                                                  free_space_realloc=off, raid_cv=on, \\r\\n                                                  thorough_scrub=off\\r\\n\\r\\n\\t\\tVolumes: vf_NAS_AURDIVIC_rootvol, wd_aurdivic_hobo_vol01, \\r\\n\\t\\t         wd_aurdivic_branch_vol01, vf_NAS_AURDI02_rootvol, \\r\\n\\t\\t         A3DOCKD0052_USER, A3DOCKD0052_PROFILE, \\r\\n\\t\\t         A3DOCKD0052_SHARED, vf_NAS_AURINT_rootvol, \\r\\n\\t\\t         vf_NAS_AURIACT_rootvol, vf_NAS_AURITAS_rootvol, \\r\\n\\t\\t         wd_auriact_branch_vol01, wd_auritas_branch_vol01, \\r\\n\\t\\t         wd_aurint_branch_vol01, vf_NAS_AURIQLD_rootvol, \\r\\n\\t\\t         wd_auriqld_hobo_vol01, wd_auriqld_branch_vol01, \\r\\n\\t\\t         wd_auriqld_branch_vol02, wd_auriqld_branch_vol03, \\r\\n\\t\\t         wd_auriqld_branch_vol04, wd_auriqld_branch_vol05, \\r\\n\\t\\t         wd_auriqld_branch_vol06, wd_auriqld_branch_vol07, \\r\\n\\t\\t         wd_auriqld_branch_vol08, wd_auriqld_branch_vol09, \\r\\n\\t\\t         vf_NAS_AURIWA_rootvol, wd_auriwa_branch_vol01, \\r\\n\\t\\t         wd_auriwa_branch_vol02, wd_auriwa_branch_vol03, \\r\\n\\t\\t         wd_auriwa_branch_vol04, wd_auriwa_branch_vol05, \\r\\n\\t\\t         wd_auriwa_hobo_vol01, vf_NAS_AURISA_rootvol, \\r\\n\\t\\t         wd_aurisa_branch_vol01, wd_aurisa_branch_vol02, \\r\\n\\t\\t         wd_aurisa_branch_vol03, wd_aurisa_hobo_vol01, \\r\\n\\t\\t         wd_auriQLD_hobo_vol01, wd_auriQLD_hobo_vol02, \\r\\n\\t\\t         wd_aurinsw_hobo_vol01, wd_aurinsw_hobo_vol02, \\r\\n\\t\\t         wd_aurinsw_hobo_vol03, wd_aurinsw_hobo_vol04, \\r\\n\\t\\t         wd_aurinsw_hobo_vol05, wd_aurinsw_hobo_vol06, \\r\\n\\t\\t         wd_aurinsw_hobo_vol07, wd_auriact_branch_vol01_copy, \\r\\n\\t\\t         vf_NAS_NSW_HOBO_rootvol, vf_NAS_QLD_HOBO_rootvol, \\r\\n\\t\\t         vf_NAS_WA_HOBO_rootvol, vf_NAS_SA_HOBO_rootvol, \\r\\n\\t\\t         wd_aurinsw_branch_vol01, wd_aurinsw_branch_vol02, \\r\\n\\t\\t         wd_aurinsw_branch_vol03, wd_aurinsw_branch_vol04, \\r\\n\\t\\t         wd_aurinsw_branch_vol05, wd_aurinsw_branch_vol06, \\r\\n\\t\\t         wd_aurinsw_branch_vol07, wd_aurinsw_branch_vol08, \\r\\n\\t\\t         wd_aurinsw_branch_vol09, wd_aurinsw_branch_vol10, \\r\\n\\t\\t         wd_aurinsw_branch_vol11, wd_aurinsw_branch_vol12, \\r\\n\\t\\t         wd_aurinsw_branch_vol13, wd_aurinsw_branch_vol14, \\r\\n\\t\\t         vf_NAS_AURINSW_rootvol, sv_test_vol, \\r\\n\\t\\t         wd_auriwa_branch_vol06, vol_SIF_Dev_01, vol_trace, \\r\\n\\t\\t         vol_trace_test, vol_trace_test_qld, \\r\\n\\t\\t         Siebel_App_Datavol01, Siebel_App_Datavol02, \\r\\n\\t\\t         Siebel_App_Datavol03, Siebel_App_Datavol04, \\r\\n\\t\\t         vf_test_rootvol, TestVol, BBC_restore_temp\\r\\n\\r\\n                Plex /aggr01_nsas/plex0: online, normal, active\\r\\n                    RAID group /aggr01_nsas/plex0/rg0: normal, block checksums\\r\\n                    RAID group /aggr01_nsas/plex0/rg1: normal, block checksums\\r\\n                    RAID group /aggr01_nsas/plex0/rg2: normal, block checksums\\r\\n                    RAID group /aggr01_nsas/plex0/rg3: normal, block checksums\\r\\n                    RAID group /aggr01_nsas/plex0/rg4: normal, block checksums\\r\\n                    RAID group /aggr01_nsas/plex0/rg5: normal, block checksums\\r\\n\\r'"
      ]
     },
     "execution_count": 7,
     "metadata": {},
     "output_type": "execute_result"
    }
   ],
   "source": [
    "separate_logs[1]"
   ]
  },
  {
   "cell_type": "code",
   "execution_count": 14,
   "metadata": {
    "collapsed": false
   },
   "outputs": [
    {
     "ename": "AttributeError",
     "evalue": "'NoneType' object has no attribute 'groups'",
     "output_type": "error",
     "traceback": [
      "\u001b[0;31m---------------------------------------------------------------------------\u001b[0m",
      "\u001b[0;31mAttributeError\u001b[0m                            Traceback (most recent call last)",
      "\u001b[0;32m<ipython-input-14-a7a4debaea97>\u001b[0m in \u001b[0;36m<module>\u001b[0;34m()\u001b[0m\n\u001b[1;32m      4\u001b[0m         \u001b[0mlog\u001b[0m \u001b[0;34m=\u001b[0m \u001b[0mlog\u001b[0m\u001b[0;34m.\u001b[0m\u001b[0mstrip\u001b[0m\u001b[0;34m(\u001b[0m\u001b[0;34m)\u001b[0m\u001b[0;34m\u001b[0m\u001b[0m\n\u001b[1;32m      5\u001b[0m         \u001b[0mlog_info\u001b[0m \u001b[0;34m=\u001b[0m \u001b[0mre\u001b[0m\u001b[0;34m.\u001b[0m\u001b[0mmatch\u001b[0m\u001b[0;34m(\u001b[0m \u001b[0;34mr'# (.* \\d{4}).*\\((.*)\\) INFO\\n# hostname: (.*) serialno: (\\d+)\\n'\u001b[0m\u001b[0;34m,\u001b[0m \u001b[0mlog\u001b[0m\u001b[0;34m,\u001b[0m \u001b[0mre\u001b[0m\u001b[0;34m.\u001b[0m\u001b[0mM\u001b[0m\u001b[0;34m)\u001b[0m\u001b[0;34m.\u001b[0m\u001b[0mgroups\u001b[0m\u001b[0;34m(\u001b[0m\u001b[0;34m)\u001b[0m\u001b[0;34m\u001b[0m\u001b[0m\n\u001b[0;32m----> 6\u001b[0;31m         \u001b[0mlog_volumes\u001b[0m \u001b[0;34m=\u001b[0m \u001b[0mre\u001b[0m\u001b[0;34m.\u001b[0m\u001b[0mmatch\u001b[0m\u001b[0;34m(\u001b[0m\u001b[0;34mr'Volumes: (.*)\\n'\u001b[0m\u001b[0;34m,\u001b[0m \u001b[0mlog\u001b[0m\u001b[0;34m,\u001b[0m \u001b[0mre\u001b[0m\u001b[0;34m.\u001b[0m\u001b[0mM\u001b[0m\u001b[0;34m)\u001b[0m\u001b[0;34m.\u001b[0m\u001b[0mgroups\u001b[0m\u001b[0;34m(\u001b[0m\u001b[0;34m)\u001b[0m\u001b[0;34m\u001b[0m\u001b[0m\n\u001b[0m\u001b[1;32m      7\u001b[0m         \u001b[0;32mprint\u001b[0m\u001b[0;34m(\u001b[0m\u001b[0mlog_volumes\u001b[0m\u001b[0;34m)\u001b[0m\u001b[0;34m\u001b[0m\u001b[0m\n\u001b[1;32m      8\u001b[0m         '''\n",
      "\u001b[0;31mAttributeError\u001b[0m: 'NoneType' object has no attribute 'groups'"
     ]
    }
   ],
   "source": [
    "log_dfs = []\n",
    "for log in separate_logs:\n",
    "    if not \"ERROR\" in log and log != '':\n",
    "        log = log.strip()\n",
    "        log_info = re.match( r'# (.* \\d{4}).*\\((.*)\\) INFO\\n# hostname: (.*) serialno: (\\d+)\\n', log, re.M).groups()\n",
    "        log_volumes = re.match(r'Volumes: (.*)\\n', log, re.M).groups()\n",
    "        print(log_volumes)\n",
    "        '''\n",
    "        log_data = pd.read_table(StringIO(log), skiprows=3, header=None, sep=r\"\\s+\",\n",
    "                     names=['Aggregate','Volume'])\n",
    "        log_data['date'] = log_info[0]\n",
    "        log_data['date'] = pd.to_datetime(log_data['date'], format='%a %b %d %H:%M:%S %Y')\n",
    "        log_data['ASUP_Type'] = log_info[1]\n",
    "        log_data['hostname'] = log_info[2]\n",
    "        log_data['serial_no'] = log_info[3]\n",
    "        log_data = log_data[['date', 'ASUP_Type','hostname','serial_no','Aggregate','kbytes','used','avail','capacity']]\n",
    "        log_dfs.append(log_data)\n",
    "        '''"
   ]
  },
  {
   "cell_type": "code",
   "execution_count": null,
   "metadata": {
    "collapsed": true
   },
   "outputs": [],
   "source": []
  }
 ],
 "metadata": {
  "anaconda-cloud": {},
  "kernelspec": {
   "display_name": "Python [Root]",
   "language": "python",
   "name": "Python [Root]"
  },
  "language_info": {
   "codemirror_mode": {
    "name": "ipython",
    "version": 3
   },
   "file_extension": ".py",
   "mimetype": "text/x-python",
   "name": "python",
   "nbconvert_exporter": "python",
   "pygments_lexer": "ipython3",
   "version": "3.5.2"
  }
 },
 "nbformat": 4,
 "nbformat_minor": 2
}
